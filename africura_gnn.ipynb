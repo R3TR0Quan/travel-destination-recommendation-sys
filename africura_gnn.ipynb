{
  "nbformat": 4,
  "nbformat_minor": 0,
  "metadata": {
    "colab": {
      "provenance": [],
      "authorship_tag": "ABX9TyOqOgUA/gsAXV6MlEqDMj3A",
      "include_colab_link": true
    },
    "kernelspec": {
      "name": "python3",
      "display_name": "Python 3"
    },
    "language_info": {
      "name": "python"
    }
  },
  "cells": [
    {
      "cell_type": "markdown",
      "metadata": {
        "id": "view-in-github",
        "colab_type": "text"
      },
      "source": [
        "<a href=\"https://colab.research.google.com/github/R3TR0Quan/travel-destination-recommendation-sys/blob/josh/africura_gnn.ipynb\" target=\"_parent\"><img src=\"https://colab.research.google.com/assets/colab-badge.svg\" alt=\"Open In Colab\"/></a>"
      ]
    },
    {
      "cell_type": "markdown",
      "source": [
        "# Experimentation Notebook\n",
        "\n",
        "This notebook is meant to help me and any others experiment with Graph Neural Nets. It may not be tied to any project and most likely uses existing frameworks, libraries and datasets"
      ],
      "metadata": {
        "id": "IjZweslsacir"
      }
    },
    {
      "cell_type": "markdown",
      "source": [
        "## Importing Data"
      ],
      "metadata": {
        "id": "DgkSXE0wSHin"
      }
    },
    {
      "cell_type": "code",
      "execution_count": null,
      "metadata": {
        "id": "kA7oGtDhZDCG"
      },
      "outputs": [],
      "source": []
    }
  ]
}